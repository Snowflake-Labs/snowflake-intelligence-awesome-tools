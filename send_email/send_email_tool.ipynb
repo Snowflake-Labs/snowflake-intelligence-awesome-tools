{
 "cells": [
  {
   "cell_type": "code",
   "execution_count": null,
   "id": "d8cbd66e-8a75-40d9-9819-f709645c6c94",
   "metadata": {
    "language": "sql",
    "name": "init"
   },
   "outputs": [],
   "source": [
    "-- be sure you have an email set for your current profile\n",
    "-- and then run all cells in this notebook one at a time\n",
    "\n",
    "use role accountadmin;"
   ]
  },
  {
   "cell_type": "code",
   "execution_count": null,
   "id": "465af584-aea3-4672-b221-1a098f303bd6",
   "metadata": {
    "language": "sql",
    "name": "create_email_integration"
   },
   "outputs": [],
   "source": [
    "CREATE NOTIFICATION INTEGRATION EMAIL_CONNECTOR\n",
    "  TYPE=EMAIL\n",
    "  ENABLED=TRUE;"
   ]
  },
  {
   "cell_type": "code",
   "execution_count": null,
   "id": "29d6d6b2-5f99-47bf-824d-5f6b98144eb5",
   "metadata": {
    "language": "sql",
    "name": "grant_integration"
   },
   "outputs": [],
   "source": [
    "-- optional\n",
    "-- grant usage on integration email_connector to role <user_role>;"
   ]
  },
  {
   "cell_type": "code",
   "execution_count": null,
   "id": "69e05032-bd91-4f80-9767-19e9101823b4",
   "metadata": {
    "language": "sql",
    "name": "verify_email"
   },
   "outputs": [],
   "source": [
    "SELECT SYSTEM$START_USER_EMAIL_VERIFICATION(CURRENT_USER());"
   ]
  },
  {
   "cell_type": "code",
   "execution_count": null,
   "id": "56ae6d50-b056-4dcf-9cf8-d0427e565782",
   "metadata": {
    "language": "sql",
    "name": "test_email"
   },
   "outputs": [],
   "source": [
    "CALL SYSTEM$SEND_EMAIL(\n",
    "    'email_connector',\n",
    "    '<your-email>',\n",
    "    'Email integration Test',\n",
    "    'This is the body'\n",
    ");\n"
   ]
  },
  {
   "cell_type": "code",
   "execution_count": null,
   "id": "c272c6f7-9dfd-4dce-8e9e-26a0f904c55b",
   "metadata": {
    "language": "sql",
    "name": "creat_tool"
   },
   "outputs": [],
   "source": [
    "create or replace procedure send_email_tool(\n",
    "    RECIPIENTS string,\n",
    "    SUBJECT string,\n",
    "    EMAIL_CONTENT string)\n",
    "returns boolean\n",
    "language javascript\n",
    "execute as caller\n",
    "as \n",
    "$$\n",
    "    var ret = snowflake.execute({\n",
    "      sqlText: \"call SYSTEM$SEND_EMAIL('EMAIL_CONNECTOR', ?, ?, ?)\",\n",
    "      binds: [RECIPIENTS, SUBJECT, EMAIL_CONTENT]\n",
    "    })\n",
    "\n",
    "    return true\n",
    "$$\n",
    ";\n"
   ]
  },
  {
   "cell_type": "code",
   "execution_count": null,
   "id": "390c689e-007d-4c5e-846c-09f0f01719b7",
   "metadata": {
    "language": "sql",
    "name": "cell1"
   },
   "outputs": [],
   "source": [
    "-- optional\n",
    "-- grant usage on procedure send_email_tool(varchar, varchar, varchar) to role <user_role>;"
   ]
  }
 ],
 "metadata": {
  "kernelspec": {
   "display_name": "Streamlit Notebook",
   "name": "streamlit"
  },
  "lastEditStatus": {
   "authorEmail": "jeff.hollan@snowflake.com",
   "authorId": "472001967313",
   "authorName": "SPCSADMIN",
   "lastEditTime": 1754692025404,
   "notebookId": "pwvi5y3lleecltq5zm4x",
   "sessionId": "8f1dc26c-f954-414f-ab85-1e08dce49042"
  }
 },
 "nbformat": 4,
 "nbformat_minor": 5
}
